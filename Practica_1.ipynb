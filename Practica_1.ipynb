{
  "nbformat": 4,
  "nbformat_minor": 0,
  "metadata": {
    "colab": {
      "provenance": [],
      "toc_visible": true,
      "authorship_tag": "ABX9TyMSHjbZNRyl0LeFpZsZfiZl",
      "include_colab_link": true
    },
    "kernelspec": {
      "name": "python3",
      "display_name": "Python 3"
    },
    "language_info": {
      "name": "python"
    }
  },
  "cells": [
    {
      "cell_type": "markdown",
      "metadata": {
        "id": "view-in-github",
        "colab_type": "text"
      },
      "source": [
        "<a href=\"https://colab.research.google.com/github/ArathByGamer/IA/blob/main/Practica_1.ipynb\" target=\"_parent\"><img src=\"https://colab.research.google.com/assets/colab-badge.svg\" alt=\"Open In Colab\"/></a>"
      ]
    },
    {
      "cell_type": "markdown",
      "source": [
        "# PRACTICA 1 - PARTE 1\n"
      ],
      "metadata": {
        "id": "-Hp-ntjrM29k"
      }
    },
    {
      "cell_type": "code",
      "source": [
        "import tensorflow as tf\n",
        "import numpy as np\n",
        "\n",
        "\n",
        "celcius = np.array([-15,-5,0,5,15], dtype=float)\n",
        "fahrenheit = np.array([5,23,32,41,59], dtype=float)\n",
        "\n",
        "\n",
        "#capa = tf.keras.layers.Dense(units=1, input_shape=[1])\n",
        "#modelo = tf.keras.Sequential([capa])\n",
        "oculta1 = tf.keras.layers.Dense(units=3, input_shape=[1])\n",
        "oculta2 = tf.keras.layers.Dense(units=3)\n",
        "salida = tf.keras.layers.Dense(units=1)\n",
        "modelo = tf.keras.Sequential([oculta1, oculta2, salida])\n",
        "\n",
        "\n",
        "modelo.compile(\n",
        "optimizer=tf.keras.optimizers.Adam(0.1),\n",
        "loss='mean_squared_error'\n",
        ")\n",
        "\n",
        "\n",
        "print(\"comenzando entrenamiento...\")\n",
        "hilstorial=modelo.fit(celcius, fahrenheit, epochs=1000, verbose=False)\n",
        "print (\"modelo entrenado!!!\")\n",
        "\n",
        "\n",
        "import matplotlib.pyplot as plt\n",
        "plt.xlabel(\"# Epoca\")\n",
        "plt.ylabel(\"magnitud de perdida\")\n",
        "plt.plot(hilstorial.history[\"loss\"])\n",
        "\n",
        "\n",
        "print (\"realizar una prediccion\")\n",
        "resultado = modelo.predict ([100.0])\n",
        "print(\"El resultado es \" + str(resultado)+\"°F\")"
      ],
      "metadata": {
        "colab": {
          "base_uri": "https://localhost:8080/",
          "height": 536
        },
        "id": "Qx9FVrggMdXF",
        "outputId": "ae32baa9-7780-426c-9801-a3c6892c035a"
      },
      "execution_count": null,
      "outputs": [
        {
          "output_type": "stream",
          "name": "stdout",
          "text": [
            "comenzando entrenamiento...\n",
            "modelo entrenado!!!\n",
            "realizar una prediccion\n",
            "1/1 [==============================] - 0s 79ms/step\n",
            "El resultado es [[211.99998]]°F\n"
          ]
        },
        {
          "output_type": "display_data",
          "data": {
            "text/plain": [
              "<Figure size 640x480 with 1 Axes>"
            ],
            "image/png": "[encoded data removed]"
          },
          "metadata": {}
        }
      ]
    },
    {
      "cell_type": "markdown",
      "source": [
        "# PRÁCTICA 1 - PARTE 2"
      ],
      "metadata": {
        "id": "Tlfv4NcGNMsZ"
      }
    },
    {
      "cell_type": "code",
      "source": [
        "import tensorflow as tf\n",
        "import numpy as np\n",
        "\n",
        "\n"
      ],
      "metadata": {
        "id": "pdM7LPksNR8G"
      },
      "execution_count": null,
      "outputs": []
    },
    {
      "cell_type": "code",
      "source": [
        "litros = np.array([-5,3,1,1,3,5,8], dtype=float)\n",
        "gal = np.array([-1.32,-0.79,-0.26,0.26,0.79,1.32,2.11], dtype=float)\n"
      ],
      "metadata": {
        "id": "hXVBZ6w7NqQG"
      },
      "execution_count": null,
      "outputs": []
    },
    {
      "cell_type": "code",
      "source": [
        "capa = tf.keras.layers.Dense(units=1, input_shape=[1])\n",
        "modelo = tf.keras.Sequential([capa])"
      ],
      "metadata": {
        "id": "QQ9KC7VHO0QQ"
      },
      "execution_count": null,
      "outputs": []
    },
    {
      "cell_type": "code",
      "source": [
        "modelo.compile(\n",
        "    optimizer = tf.keras.optimizers.Adam(0,1),\n",
        "    loss='mean_squared_error'\n",
        ")"
      ],
      "metadata": {
        "id": "KIO7ATX3PK6M"
      },
      "execution_count": null,
      "outputs": []
    },
    {
      "cell_type": "code",
      "source": [
        "print('Comenzando el entrenamiento')\n",
        "historial = modelo.fit(litros, gal, epochs=1000, verbose=False)\n",
        "print('Modelo entrenado!')"
      ],
      "metadata": {
        "colab": {
          "base_uri": "https://localhost:8080/"
        },
        "id": "k_Xcl0-NQrlz",
        "outputId": "1ca6c867-70ed-45ee-b988-e792ab075213"
      },
      "execution_count": null,
      "outputs": [
        {
          "output_type": "stream",
          "name": "stdout",
          "text": [
            "Comenzando el entrenamiento\n",
            "Modelo entrenado!\n"
          ]
        }
      ]
    },
    {
      "cell_type": "code",
      "source": [
        "import matplotlib.pyplot as plt\n",
        "plt.xlabel(\"# Epoca\")\n",
        "plt.ylabel(\"Magnitud de pérdida\")\n",
        "plt.plot(historial.history[\"loss\"])\n"
      ],
      "metadata": {
        "colab": {
          "base_uri": "https://localhost:8080/",
          "height": 470
        },
        "id": "EqXtG-poRCj6",
        "outputId": "7747fbf7-e039-4c45-e18e-3e2cffdc4b32"
      },
      "execution_count": null,
      "outputs": [
        {
          "output_type": "execute_result",
          "data": {
            "text/plain": [
              "[<matplotlib.lines.Line2D at 0x794ef510af80>]"
            ]
          },
          "metadata": {},
          "execution_count": 9
        },
        {
          "output_type": "display_data",
          "data": {
            "text/plain": [
              "<Figure size 640x480 with 1 Axes>"
            ],
            "image/png": "[encoded data removed]"
          },
          "metadata": {}
        }
      ]
    },
    {
      "cell_type": "code",
      "source": [
        "print(\"Realizar una predicción!\")\n",
        "resultado = modelo.predict([10])\n",
        "print(\"El resultado es...\" + str(resultado) + \" galones!!\")\n"
      ],
      "metadata": {
        "colab": {
          "base_uri": "https://localhost:8080/"
        },
        "id": "f-R6vLIwRrlh",
        "outputId": "aa807594-88e7-472b-c497-68218fdf515f"
      },
      "execution_count": null,
      "outputs": [
        {
          "output_type": "stream",
          "name": "stdout",
          "text": [
            "Realizar una predicción!\n",
            "1/1 [==============================] - 0s 65ms/step\n",
            "El resultado es...[[nan]] galones!!\n"
          ]
        }
      ]
    }
  ]
}